{
  "nbformat": 4,
  "nbformat_minor": 0,
  "metadata": {
    "colab": {
      "provenance": [],
      "authorship_tag": "ABX9TyP/mBENyccvF5VS5LzpTbF8",
      "include_colab_link": true
    },
    "kernelspec": {
      "name": "python3",
      "display_name": "Python 3"
    },
    "language_info": {
      "name": "python"
    }
  },
  "cells": [
    {
      "cell_type": "markdown",
      "metadata": {
        "id": "view-in-github",
        "colab_type": "text"
      },
      "source": [
        "<a href=\"https://colab.research.google.com/github/MayerT1/Pakistan_Research/blob/main/FoMo_Bench.ipynb\" target=\"_parent\"><img src=\"https://colab.research.google.com/assets/colab-badge.svg\" alt=\"Open In Colab\"/></a>"
      ]
    },
    {
      "cell_type": "markdown",
      "source": [
        "https://github.com/RolnickLab/FoMo-Bench/tree/main\n",
        "\n"
      ],
      "metadata": {
        "id": "mWD6T6v6ITuG"
      }
    },
    {
      "cell_type": "code",
      "execution_count": 1,
      "metadata": {
        "colab": {
          "base_uri": "https://localhost:8080/"
        },
        "id": "whtqH1pCINbG",
        "outputId": "c3b292ae-2928-4f8b-ca22-b139a3d33369"
      },
      "outputs": [
        {
          "output_type": "stream",
          "name": "stdout",
          "text": [
            "fatal: destination path 'FoMo-Bench' already exists and is not an empty directory.\n"
          ]
        }
      ],
      "source": [
        "!git clone https://github.com/RolnickLab/FoMo-Bench.git"
      ]
    },
    {
      "cell_type": "code",
      "source": [
        "%cd FoMo-Bench/"
      ],
      "metadata": {
        "colab": {
          "base_uri": "https://localhost:8080/"
        },
        "id": "tzqaxJAaImLd",
        "outputId": "6f180384-a962-4d63-921d-e8c1c8ae26e9"
      },
      "execution_count": 2,
      "outputs": [
        {
          "output_type": "stream",
          "name": "stdout",
          "text": [
            "/content/FoMo-Bench\n"
          ]
        }
      ]
    },
    {
      "cell_type": "code",
      "source": [
        "!ls"
      ],
      "metadata": {
        "colab": {
          "base_uri": "https://localhost:8080/"
        },
        "id": "AwSSpm9XIo9l",
        "outputId": "de51245d-dbd1-4a25-d30e-2fcdceebf2cc"
      },
      "execution_count": 3,
      "outputs": [
        {
          "output_type": "stream",
          "name": "stdout",
          "text": [
            "configs   downloader.py        LICENSE\tmodel_zoo  requirements.txt  utilities\n",
            "datasets  downloading_scripts  main.py\tREADME.md  training\n"
          ]
        }
      ]
    },
    {
      "cell_type": "code",
      "source": [
        "!pip install -r requirements.txt"
      ],
      "metadata": {
        "colab": {
          "base_uri": "https://localhost:8080/"
        },
        "id": "5L23R_O4IZfj",
        "outputId": "aeea40cc-c36a-4298-f39b-c0deb1f85aa3"
      },
      "execution_count": 4,
      "outputs": [
        {
          "output_type": "stream",
          "name": "stdout",
          "text": [
            "Requirement already satisfied: numpy==1.26.2 in /usr/local/lib/python3.10/dist-packages (from -r requirements.txt (line 1)) (1.26.2)\n",
            "Requirement already satisfied: torch==2.1.2 in /usr/local/lib/python3.10/dist-packages (from -r requirements.txt (line 2)) (2.1.2)\n",
            "Requirement already satisfied: torchvision==0.16.2 in /usr/local/lib/python3.10/dist-packages (from -r requirements.txt (line 3)) (0.16.2)\n",
            "Requirement already satisfied: webdataset==0.2.86 in /usr/local/lib/python3.10/dist-packages (from -r requirements.txt (line 4)) (0.2.86)\n",
            "Requirement already satisfied: torchmetrics==1.2.1 in /usr/local/lib/python3.10/dist-packages (from -r requirements.txt (line 5)) (1.2.1)\n",
            "Requirement already satisfied: black==23.12.1 in /usr/local/lib/python3.10/dist-packages (from -r requirements.txt (line 6)) (23.12.1)\n",
            "Requirement already satisfied: pre_commit==3.6.0 in /usr/local/lib/python3.10/dist-packages (from -r requirements.txt (line 7)) (3.6.0)\n",
            "Requirement already satisfied: matplotlib==3.8.2 in /usr/local/lib/python3.10/dist-packages (from -r requirements.txt (line 8)) (3.8.2)\n",
            "Requirement already satisfied: einops==0.7.0 in /usr/local/lib/python3.10/dist-packages (from -r requirements.txt (line 9)) (0.7.0)\n",
            "Requirement already satisfied: pyjson5==1.6.5 in /usr/local/lib/python3.10/dist-packages (from -r requirements.txt (line 10)) (1.6.5)\n",
            "Requirement already satisfied: albumentations==1.3.1 in /usr/local/lib/python3.10/dist-packages (from -r requirements.txt (line 11)) (1.3.1)\n",
            "Requirement already satisfied: tqdm==4.66.1 in /usr/local/lib/python3.10/dist-packages (from -r requirements.txt (line 12)) (4.66.1)\n",
            "Requirement already satisfied: segmentation-models-pytorch==0.3.3 in /usr/local/lib/python3.10/dist-packages (from -r requirements.txt (line 13)) (0.3.3)\n",
            "Requirement already satisfied: torchsummary==1.5.1 in /usr/local/lib/python3.10/dist-packages (from -r requirements.txt (line 14)) (1.5.1)\n",
            "Requirement already satisfied: transformers==4.36.2 in /usr/local/lib/python3.10/dist-packages (from -r requirements.txt (line 15)) (4.36.2)\n",
            "Requirement already satisfied: torch_geometric==2.4.0 in /usr/local/lib/python3.10/dist-packages (from -r requirements.txt (line 16)) (2.4.0)\n",
            "Requirement already satisfied: kornia==0.7.0 in /usr/local/lib/python3.10/dist-packages (from -r requirements.txt (line 17)) (0.7.0)\n",
            "Requirement already satisfied: pandas==2.1.4 in /usr/local/lib/python3.10/dist-packages (from -r requirements.txt (line 18)) (2.1.4)\n",
            "Requirement already satisfied: ray==2.9.0 in /usr/local/lib/python3.10/dist-packages (from -r requirements.txt (line 19)) (2.9.0)\n",
            "Requirement already satisfied: wandb==0.16.1 in /usr/local/lib/python3.10/dist-packages (from -r requirements.txt (line 20)) (0.16.1)\n",
            "Requirement already satisfied: rasterio==1.3.9 in /usr/local/lib/python3.10/dist-packages (from -r requirements.txt (line 21)) (1.3.9)\n",
            "Requirement already satisfied: laspy==2.5.3 in /usr/local/lib/python3.10/dist-packages (from -r requirements.txt (line 22)) (2.5.3)\n",
            "Requirement already satisfied: xmltodict==0.13.0 in /usr/local/lib/python3.10/dist-packages (from -r requirements.txt (line 23)) (0.13.0)\n",
            "Requirement already satisfied: geopandas==0.14.3 in /usr/local/lib/python3.10/dist-packages (from -r requirements.txt (line 24)) (0.14.3)\n",
            "Requirement already satisfied: torchgeo==0.5.1 in /usr/local/lib/python3.10/dist-packages (from -r requirements.txt (line 25)) (0.5.1)\n",
            "Requirement already satisfied: filelock in /usr/local/lib/python3.10/dist-packages (from torch==2.1.2->-r requirements.txt (line 2)) (3.15.4)\n",
            "Requirement already satisfied: typing-extensions in /usr/local/lib/python3.10/dist-packages (from torch==2.1.2->-r requirements.txt (line 2)) (4.12.2)\n",
            "Requirement already satisfied: sympy in /usr/local/lib/python3.10/dist-packages (from torch==2.1.2->-r requirements.txt (line 2)) (1.12.1)\n",
            "Requirement already satisfied: networkx in /usr/local/lib/python3.10/dist-packages (from torch==2.1.2->-r requirements.txt (line 2)) (3.3)\n",
            "Requirement already satisfied: jinja2 in /usr/local/lib/python3.10/dist-packages (from torch==2.1.2->-r requirements.txt (line 2)) (3.1.4)\n",
            "Requirement already satisfied: fsspec in /usr/local/lib/python3.10/dist-packages (from torch==2.1.2->-r requirements.txt (line 2)) (2023.6.0)\n",
            "Requirement already satisfied: nvidia-cuda-nvrtc-cu12==12.1.105 in /usr/local/lib/python3.10/dist-packages (from torch==2.1.2->-r requirements.txt (line 2)) (12.1.105)\n",
            "Requirement already satisfied: nvidia-cuda-runtime-cu12==12.1.105 in /usr/local/lib/python3.10/dist-packages (from torch==2.1.2->-r requirements.txt (line 2)) (12.1.105)\n",
            "Requirement already satisfied: nvidia-cuda-cupti-cu12==12.1.105 in /usr/local/lib/python3.10/dist-packages (from torch==2.1.2->-r requirements.txt (line 2)) (12.1.105)\n",
            "Requirement already satisfied: nvidia-cudnn-cu12==8.9.2.26 in /usr/local/lib/python3.10/dist-packages (from torch==2.1.2->-r requirements.txt (line 2)) (8.9.2.26)\n",
            "Requirement already satisfied: nvidia-cublas-cu12==12.1.3.1 in /usr/local/lib/python3.10/dist-packages (from torch==2.1.2->-r requirements.txt (line 2)) (12.1.3.1)\n",
            "Requirement already satisfied: nvidia-cufft-cu12==11.0.2.54 in /usr/local/lib/python3.10/dist-packages (from torch==2.1.2->-r requirements.txt (line 2)) (11.0.2.54)\n",
            "Requirement already satisfied: nvidia-curand-cu12==10.3.2.106 in /usr/local/lib/python3.10/dist-packages (from torch==2.1.2->-r requirements.txt (line 2)) (10.3.2.106)\n",
            "Requirement already satisfied: nvidia-cusolver-cu12==11.4.5.107 in /usr/local/lib/python3.10/dist-packages (from torch==2.1.2->-r requirements.txt (line 2)) (11.4.5.107)\n",
            "Requirement already satisfied: nvidia-cusparse-cu12==12.1.0.106 in /usr/local/lib/python3.10/dist-packages (from torch==2.1.2->-r requirements.txt (line 2)) (12.1.0.106)\n",
            "Requirement already satisfied: nvidia-nccl-cu12==2.18.1 in /usr/local/lib/python3.10/dist-packages (from torch==2.1.2->-r requirements.txt (line 2)) (2.18.1)\n",
            "Requirement already satisfied: nvidia-nvtx-cu12==12.1.105 in /usr/local/lib/python3.10/dist-packages (from torch==2.1.2->-r requirements.txt (line 2)) (12.1.105)\n",
            "Requirement already satisfied: triton==2.1.0 in /usr/local/lib/python3.10/dist-packages (from torch==2.1.2->-r requirements.txt (line 2)) (2.1.0)\n",
            "Requirement already satisfied: requests in /usr/local/lib/python3.10/dist-packages (from torchvision==0.16.2->-r requirements.txt (line 3)) (2.31.0)\n",
            "Requirement already satisfied: pillow!=8.3.*,>=5.3.0 in /usr/local/lib/python3.10/dist-packages (from torchvision==0.16.2->-r requirements.txt (line 3)) (9.4.0)\n",
            "Requirement already satisfied: braceexpand in /usr/local/lib/python3.10/dist-packages (from webdataset==0.2.86->-r requirements.txt (line 4)) (0.1.7)\n",
            "Requirement already satisfied: pyyaml in /usr/local/lib/python3.10/dist-packages (from webdataset==0.2.86->-r requirements.txt (line 4)) (6.0.1)\n",
            "Requirement already satisfied: packaging>17.1 in /usr/local/lib/python3.10/dist-packages (from torchmetrics==1.2.1->-r requirements.txt (line 5)) (24.1)\n",
            "Requirement already satisfied: lightning-utilities>=0.8.0 in /usr/local/lib/python3.10/dist-packages (from torchmetrics==1.2.1->-r requirements.txt (line 5)) (0.11.3.post0)\n",
            "Requirement already satisfied: click>=8.0.0 in /usr/local/lib/python3.10/dist-packages (from black==23.12.1->-r requirements.txt (line 6)) (8.1.7)\n",
            "Requirement already satisfied: mypy-extensions>=0.4.3 in /usr/local/lib/python3.10/dist-packages (from black==23.12.1->-r requirements.txt (line 6)) (1.0.0)\n",
            "Requirement already satisfied: pathspec>=0.9.0 in /usr/local/lib/python3.10/dist-packages (from black==23.12.1->-r requirements.txt (line 6)) (0.12.1)\n",
            "Requirement already satisfied: platformdirs>=2 in /usr/local/lib/python3.10/dist-packages (from black==23.12.1->-r requirements.txt (line 6)) (4.2.2)\n",
            "Requirement already satisfied: tomli>=1.1.0 in /usr/local/lib/python3.10/dist-packages (from black==23.12.1->-r requirements.txt (line 6)) (2.0.1)\n",
            "Requirement already satisfied: cfgv>=2.0.0 in /usr/local/lib/python3.10/dist-packages (from pre_commit==3.6.0->-r requirements.txt (line 7)) (3.4.0)\n",
            "Requirement already satisfied: identify>=1.0.0 in /usr/local/lib/python3.10/dist-packages (from pre_commit==3.6.0->-r requirements.txt (line 7)) (2.5.36)\n",
            "Requirement already satisfied: nodeenv>=0.11.1 in /usr/local/lib/python3.10/dist-packages (from pre_commit==3.6.0->-r requirements.txt (line 7)) (1.9.1)\n",
            "Requirement already satisfied: virtualenv>=20.10.0 in /usr/local/lib/python3.10/dist-packages (from pre_commit==3.6.0->-r requirements.txt (line 7)) (20.26.3)\n",
            "Requirement already satisfied: contourpy>=1.0.1 in /usr/local/lib/python3.10/dist-packages (from matplotlib==3.8.2->-r requirements.txt (line 8)) (1.2.1)\n",
            "Requirement already satisfied: cycler>=0.10 in /usr/local/lib/python3.10/dist-packages (from matplotlib==3.8.2->-r requirements.txt (line 8)) (0.12.1)\n",
            "Requirement already satisfied: fonttools>=4.22.0 in /usr/local/lib/python3.10/dist-packages (from matplotlib==3.8.2->-r requirements.txt (line 8)) (4.53.0)\n",
            "Requirement already satisfied: kiwisolver>=1.3.1 in /usr/local/lib/python3.10/dist-packages (from matplotlib==3.8.2->-r requirements.txt (line 8)) (1.4.5)\n",
            "Requirement already satisfied: pyparsing>=2.3.1 in /usr/local/lib/python3.10/dist-packages (from matplotlib==3.8.2->-r requirements.txt (line 8)) (3.1.2)\n",
            "Requirement already satisfied: python-dateutil>=2.7 in /usr/local/lib/python3.10/dist-packages (from matplotlib==3.8.2->-r requirements.txt (line 8)) (2.8.2)\n",
            "Requirement already satisfied: scipy>=1.1.0 in /usr/local/lib/python3.10/dist-packages (from albumentations==1.3.1->-r requirements.txt (line 11)) (1.11.4)\n",
            "Requirement already satisfied: scikit-image>=0.16.1 in /usr/local/lib/python3.10/dist-packages (from albumentations==1.3.1->-r requirements.txt (line 11)) (0.19.3)\n",
            "Requirement already satisfied: qudida>=0.0.4 in /usr/local/lib/python3.10/dist-packages (from albumentations==1.3.1->-r requirements.txt (line 11)) (0.0.4)\n",
            "Requirement already satisfied: opencv-python-headless>=4.1.1 in /usr/local/lib/python3.10/dist-packages (from albumentations==1.3.1->-r requirements.txt (line 11)) (4.10.0.84)\n",
            "Requirement already satisfied: pretrainedmodels==0.7.4 in /usr/local/lib/python3.10/dist-packages (from segmentation-models-pytorch==0.3.3->-r requirements.txt (line 13)) (0.7.4)\n",
            "Requirement already satisfied: efficientnet-pytorch==0.7.1 in /usr/local/lib/python3.10/dist-packages (from segmentation-models-pytorch==0.3.3->-r requirements.txt (line 13)) (0.7.1)\n",
            "Requirement already satisfied: timm==0.9.2 in /usr/local/lib/python3.10/dist-packages (from segmentation-models-pytorch==0.3.3->-r requirements.txt (line 13)) (0.9.2)\n",
            "Requirement already satisfied: huggingface-hub<1.0,>=0.19.3 in /usr/local/lib/python3.10/dist-packages (from transformers==4.36.2->-r requirements.txt (line 15)) (0.23.4)\n",
            "Requirement already satisfied: regex!=2019.12.17 in /usr/local/lib/python3.10/dist-packages (from transformers==4.36.2->-r requirements.txt (line 15)) (2024.5.15)\n",
            "Requirement already satisfied: tokenizers<0.19,>=0.14 in /usr/local/lib/python3.10/dist-packages (from transformers==4.36.2->-r requirements.txt (line 15)) (0.15.2)\n",
            "Requirement already satisfied: safetensors>=0.3.1 in /usr/local/lib/python3.10/dist-packages (from transformers==4.36.2->-r requirements.txt (line 15)) (0.4.3)\n",
            "Requirement already satisfied: scikit-learn in /usr/local/lib/python3.10/dist-packages (from torch_geometric==2.4.0->-r requirements.txt (line 16)) (1.2.2)\n",
            "Requirement already satisfied: psutil>=5.8.0 in /usr/local/lib/python3.10/dist-packages (from torch_geometric==2.4.0->-r requirements.txt (line 16)) (5.9.5)\n",
            "Requirement already satisfied: pytz>=2020.1 in /usr/local/lib/python3.10/dist-packages (from pandas==2.1.4->-r requirements.txt (line 18)) (2023.4)\n",
            "Requirement already satisfied: tzdata>=2022.1 in /usr/local/lib/python3.10/dist-packages (from pandas==2.1.4->-r requirements.txt (line 18)) (2024.1)\n",
            "Requirement already satisfied: jsonschema in /usr/local/lib/python3.10/dist-packages (from ray==2.9.0->-r requirements.txt (line 19)) (4.19.2)\n",
            "Requirement already satisfied: msgpack<2.0.0,>=1.0.0 in /usr/local/lib/python3.10/dist-packages (from ray==2.9.0->-r requirements.txt (line 19)) (1.0.8)\n",
            "Requirement already satisfied: protobuf!=3.19.5,>=3.15.3 in /usr/local/lib/python3.10/dist-packages (from ray==2.9.0->-r requirements.txt (line 19)) (3.20.3)\n",
            "Requirement already satisfied: aiosignal in /usr/local/lib/python3.10/dist-packages (from ray==2.9.0->-r requirements.txt (line 19)) (1.3.1)\n",
            "Requirement already satisfied: frozenlist in /usr/local/lib/python3.10/dist-packages (from ray==2.9.0->-r requirements.txt (line 19)) (1.4.1)\n",
            "Requirement already satisfied: GitPython!=3.1.29,>=1.0.0 in /usr/local/lib/python3.10/dist-packages (from wandb==0.16.1->-r requirements.txt (line 20)) (3.1.43)\n",
            "Requirement already satisfied: sentry-sdk>=1.0.0 in /usr/local/lib/python3.10/dist-packages (from wandb==0.16.1->-r requirements.txt (line 20)) (2.7.1)\n",
            "Requirement already satisfied: docker-pycreds>=0.4.0 in /usr/local/lib/python3.10/dist-packages (from wandb==0.16.1->-r requirements.txt (line 20)) (0.4.0)\n",
            "Requirement already satisfied: setproctitle in /usr/local/lib/python3.10/dist-packages (from wandb==0.16.1->-r requirements.txt (line 20)) (1.3.3)\n",
            "Requirement already satisfied: setuptools in /usr/local/lib/python3.10/dist-packages (from wandb==0.16.1->-r requirements.txt (line 20)) (67.7.2)\n",
            "Requirement already satisfied: appdirs>=1.4.3 in /usr/local/lib/python3.10/dist-packages (from wandb==0.16.1->-r requirements.txt (line 20)) (1.4.4)\n",
            "Requirement already satisfied: affine in /usr/local/lib/python3.10/dist-packages (from rasterio==1.3.9->-r requirements.txt (line 21)) (2.4.0)\n",
            "Requirement already satisfied: attrs in /usr/local/lib/python3.10/dist-packages (from rasterio==1.3.9->-r requirements.txt (line 21)) (23.2.0)\n",
            "Requirement already satisfied: certifi in /usr/local/lib/python3.10/dist-packages (from rasterio==1.3.9->-r requirements.txt (line 21)) (2024.6.2)\n",
            "Requirement already satisfied: cligj>=0.5 in /usr/local/lib/python3.10/dist-packages (from rasterio==1.3.9->-r requirements.txt (line 21)) (0.7.2)\n",
            "Requirement already satisfied: snuggs>=1.4.1 in /usr/local/lib/python3.10/dist-packages (from rasterio==1.3.9->-r requirements.txt (line 21)) (1.4.7)\n",
            "Requirement already satisfied: click-plugins in /usr/local/lib/python3.10/dist-packages (from rasterio==1.3.9->-r requirements.txt (line 21)) (1.1.1)\n",
            "Requirement already satisfied: fiona>=1.8.21 in /usr/local/lib/python3.10/dist-packages (from geopandas==0.14.3->-r requirements.txt (line 24)) (1.9.6)\n",
            "Requirement already satisfied: pyproj>=3.3.0 in /usr/local/lib/python3.10/dist-packages (from geopandas==0.14.3->-r requirements.txt (line 24)) (3.6.1)\n",
            "Requirement already satisfied: shapely>=1.8.0 in /usr/local/lib/python3.10/dist-packages (from geopandas==0.14.3->-r requirements.txt (line 24)) (2.0.4)\n",
            "Requirement already satisfied: lightly>=1.4.4 in /usr/local/lib/python3.10/dist-packages (from torchgeo==0.5.1->-r requirements.txt (line 25)) (1.5.8)\n",
            "Requirement already satisfied: lightning[pytorch-extra]>=2 in /usr/local/lib/python3.10/dist-packages (from torchgeo==0.5.1->-r requirements.txt (line 25)) (2.3.1)\n",
            "Requirement already satisfied: rtree>=1 in /usr/local/lib/python3.10/dist-packages (from torchgeo==0.5.1->-r requirements.txt (line 25)) (1.2.0)\n",
            "Requirement already satisfied: nvidia-nvjitlink-cu12 in /usr/local/lib/python3.10/dist-packages (from nvidia-cusolver-cu12==11.4.5.107->torch==2.1.2->-r requirements.txt (line 2)) (12.5.82)\n",
            "Requirement already satisfied: munch in /usr/local/lib/python3.10/dist-packages (from pretrainedmodels==0.7.4->segmentation-models-pytorch==0.3.3->-r requirements.txt (line 13)) (4.0.0)\n",
            "Requirement already satisfied: six>=1.4.0 in /usr/local/lib/python3.10/dist-packages (from docker-pycreds>=0.4.0->wandb==0.16.1->-r requirements.txt (line 20)) (1.16.0)\n",
            "Requirement already satisfied: gitdb<5,>=4.0.1 in /usr/local/lib/python3.10/dist-packages (from GitPython!=3.1.29,>=1.0.0->wandb==0.16.1->-r requirements.txt (line 20)) (4.0.11)\n",
            "Requirement already satisfied: hydra-core>=1.0.0 in /usr/local/lib/python3.10/dist-packages (from lightly>=1.4.4->torchgeo==0.5.1->-r requirements.txt (line 25)) (1.3.2)\n",
            "Requirement already satisfied: lightly-utils~=0.0.0 in /usr/local/lib/python3.10/dist-packages (from lightly>=1.4.4->torchgeo==0.5.1->-r requirements.txt (line 25)) (0.0.2)\n",
            "Requirement already satisfied: urllib3>=1.25.3 in /usr/local/lib/python3.10/dist-packages (from lightly>=1.4.4->torchgeo==0.5.1->-r requirements.txt (line 25)) (2.0.7)\n",
            "Requirement already satisfied: pydantic<2,>=1.10.5 in /usr/local/lib/python3.10/dist-packages (from lightly>=1.4.4->torchgeo==0.5.1->-r requirements.txt (line 25)) (1.10.17)\n",
            "Requirement already satisfied: aenum>=3.1.11 in /usr/local/lib/python3.10/dist-packages (from lightly>=1.4.4->torchgeo==0.5.1->-r requirements.txt (line 25)) (3.1.15)\n",
            "Requirement already satisfied: pytorch-lightning>=1.0.4 in /usr/local/lib/python3.10/dist-packages (from lightly>=1.4.4->torchgeo==0.5.1->-r requirements.txt (line 25)) (2.3.1)\n",
            "Requirement already satisfied: bitsandbytes<1.0,>=0.42.0 in /usr/local/lib/python3.10/dist-packages (from lightning[pytorch-extra]>=2->torchgeo==0.5.1->-r requirements.txt (line 25)) (0.43.1)\n",
            "Requirement already satisfied: jsonargparse[signatures]<5.0,>=4.27.7 in /usr/local/lib/python3.10/dist-packages (from lightning[pytorch-extra]>=2->torchgeo==0.5.1->-r requirements.txt (line 25)) (4.31.0)\n",
            "Requirement already satisfied: omegaconf<3.0,>=2.2.3 in /usr/local/lib/python3.10/dist-packages (from lightning[pytorch-extra]>=2->torchgeo==0.5.1->-r requirements.txt (line 25)) (2.3.0)\n",
            "Requirement already satisfied: rich<14.0,>=12.3.0 in /usr/local/lib/python3.10/dist-packages (from lightning[pytorch-extra]>=2->torchgeo==0.5.1->-r requirements.txt (line 25)) (13.7.1)\n",
            "Requirement already satisfied: tensorboardX<3.0,>=2.2 in /usr/local/lib/python3.10/dist-packages (from lightning[pytorch-extra]>=2->torchgeo==0.5.1->-r requirements.txt (line 25)) (2.6.2.2)\n",
            "Requirement already satisfied: charset-normalizer<4,>=2 in /usr/local/lib/python3.10/dist-packages (from requests->torchvision==0.16.2->-r requirements.txt (line 3)) (3.3.2)\n",
            "Requirement already satisfied: idna<4,>=2.5 in /usr/local/lib/python3.10/dist-packages (from requests->torchvision==0.16.2->-r requirements.txt (line 3)) (3.7)\n",
            "Requirement already satisfied: imageio>=2.4.1 in /usr/local/lib/python3.10/dist-packages (from scikit-image>=0.16.1->albumentations==1.3.1->-r requirements.txt (line 11)) (2.31.6)\n",
            "Requirement already satisfied: tifffile>=2019.7.26 in /usr/local/lib/python3.10/dist-packages (from scikit-image>=0.16.1->albumentations==1.3.1->-r requirements.txt (line 11)) (2024.6.18)\n",
            "Requirement already satisfied: PyWavelets>=1.1.1 in /usr/local/lib/python3.10/dist-packages (from scikit-image>=0.16.1->albumentations==1.3.1->-r requirements.txt (line 11)) (1.6.0)\n",
            "Requirement already satisfied: joblib>=1.1.1 in /usr/local/lib/python3.10/dist-packages (from scikit-learn->torch_geometric==2.4.0->-r requirements.txt (line 16)) (1.4.2)\n",
            "Requirement already satisfied: threadpoolctl>=2.0.0 in /usr/local/lib/python3.10/dist-packages (from scikit-learn->torch_geometric==2.4.0->-r requirements.txt (line 16)) (3.5.0)\n",
            "Requirement already satisfied: distlib<1,>=0.3.7 in /usr/local/lib/python3.10/dist-packages (from virtualenv>=20.10.0->pre_commit==3.6.0->-r requirements.txt (line 7)) (0.3.8)\n",
            "Requirement already satisfied: MarkupSafe>=2.0 in /usr/local/lib/python3.10/dist-packages (from jinja2->torch==2.1.2->-r requirements.txt (line 2)) (2.1.5)\n",
            "Requirement already satisfied: jsonschema-specifications>=2023.03.6 in /usr/local/lib/python3.10/dist-packages (from jsonschema->ray==2.9.0->-r requirements.txt (line 19)) (2023.12.1)\n",
            "Requirement already satisfied: referencing>=0.28.4 in /usr/local/lib/python3.10/dist-packages (from jsonschema->ray==2.9.0->-r requirements.txt (line 19)) (0.35.1)\n",
            "Requirement already satisfied: rpds-py>=0.7.1 in /usr/local/lib/python3.10/dist-packages (from jsonschema->ray==2.9.0->-r requirements.txt (line 19)) (0.18.1)\n",
            "Requirement already satisfied: mpmath<1.4.0,>=1.1.0 in /usr/local/lib/python3.10/dist-packages (from sympy->torch==2.1.2->-r requirements.txt (line 2)) (1.3.0)\n",
            "Requirement already satisfied: aiohttp!=4.0.0a0,!=4.0.0a1 in /usr/local/lib/python3.10/dist-packages (from fsspec->torch==2.1.2->-r requirements.txt (line 2)) (3.9.5)\n",
            "Requirement already satisfied: smmap<6,>=3.0.1 in /usr/local/lib/python3.10/dist-packages (from gitdb<5,>=4.0.1->GitPython!=3.1.29,>=1.0.0->wandb==0.16.1->-r requirements.txt (line 20)) (5.0.1)\n",
            "Requirement already satisfied: antlr4-python3-runtime==4.9.* in /usr/local/lib/python3.10/dist-packages (from hydra-core>=1.0.0->lightly>=1.4.4->torchgeo==0.5.1->-r requirements.txt (line 25)) (4.9.3)\n",
            "Requirement already satisfied: docstring-parser>=0.15 in /usr/local/lib/python3.10/dist-packages (from jsonargparse[signatures]<5.0,>=4.27.7->lightning[pytorch-extra]>=2->torchgeo==0.5.1->-r requirements.txt (line 25)) (0.16)\n",
            "Requirement already satisfied: typeshed-client>=2.1.0 in /usr/local/lib/python3.10/dist-packages (from jsonargparse[signatures]<5.0,>=4.27.7->lightning[pytorch-extra]>=2->torchgeo==0.5.1->-r requirements.txt (line 25)) (2.5.1)\n",
            "Requirement already satisfied: markdown-it-py>=2.2.0 in /usr/local/lib/python3.10/dist-packages (from rich<14.0,>=12.3.0->lightning[pytorch-extra]>=2->torchgeo==0.5.1->-r requirements.txt (line 25)) (3.0.0)\n",
            "Requirement already satisfied: pygments<3.0.0,>=2.13.0 in /usr/local/lib/python3.10/dist-packages (from rich<14.0,>=12.3.0->lightning[pytorch-extra]>=2->torchgeo==0.5.1->-r requirements.txt (line 25)) (2.16.1)\n",
            "Requirement already satisfied: multidict<7.0,>=4.5 in /usr/local/lib/python3.10/dist-packages (from aiohttp!=4.0.0a0,!=4.0.0a1->fsspec->torch==2.1.2->-r requirements.txt (line 2)) (6.0.5)\n",
            "Requirement already satisfied: yarl<2.0,>=1.0 in /usr/local/lib/python3.10/dist-packages (from aiohttp!=4.0.0a0,!=4.0.0a1->fsspec->torch==2.1.2->-r requirements.txt (line 2)) (1.9.4)\n",
            "Requirement already satisfied: async-timeout<5.0,>=4.0 in /usr/local/lib/python3.10/dist-packages (from aiohttp!=4.0.0a0,!=4.0.0a1->fsspec->torch==2.1.2->-r requirements.txt (line 2)) (4.0.3)\n",
            "Requirement already satisfied: mdurl~=0.1 in /usr/local/lib/python3.10/dist-packages (from markdown-it-py>=2.2.0->rich<14.0,>=12.3.0->lightning[pytorch-extra]>=2->torchgeo==0.5.1->-r requirements.txt (line 25)) (0.1.2)\n",
            "Requirement already satisfied: importlib-resources>=1.4.0 in /usr/local/lib/python3.10/dist-packages (from typeshed-client>=2.1.0->jsonargparse[signatures]<5.0,>=4.27.7->lightning[pytorch-extra]>=2->torchgeo==0.5.1->-r requirements.txt (line 25)) (6.4.0)\n"
          ]
        }
      ]
    },
    {
      "cell_type": "code",
      "source": [
        "pip install pyg_lib torch_scatter torch_cluster torch_spline_conv -f https://data.pyg.org/whl/torch-2.1.0+cu121.html"
      ],
      "metadata": {
        "colab": {
          "base_uri": "https://localhost:8080/"
        },
        "id": "JLaRoujjJFTq",
        "outputId": "d4cc0281-bcbe-48fc-b87c-98195c2ddabd"
      },
      "execution_count": 5,
      "outputs": [
        {
          "output_type": "stream",
          "name": "stdout",
          "text": [
            "Looking in links: https://data.pyg.org/whl/torch-2.1.0+cu121.html\n",
            "Collecting pyg_lib\n",
            "  Downloading https://data.pyg.org/whl/torch-2.1.0%2Bcu121/pyg_lib-0.4.0%2Bpt21cu121-cp310-cp310-linux_x86_64.whl (2.5 MB)\n",
            "\u001b[2K     \u001b[90m━━━━━━━━━━━━━━━━━━━━━━━━━━━━━━━━━━━━━━━━\u001b[0m \u001b[32m2.5/2.5 MB\u001b[0m \u001b[31m3.2 MB/s\u001b[0m eta \u001b[36m0:00:00\u001b[0m\n",
            "\u001b[?25hCollecting torch_scatter\n",
            "  Downloading https://data.pyg.org/whl/torch-2.1.0%2Bcu121/torch_scatter-2.1.2%2Bpt21cu121-cp310-cp310-linux_x86_64.whl (10.8 MB)\n",
            "\u001b[2K     \u001b[90m━━━━━━━━━━━━━━━━━━━━━━━━━━━━━━━━━━━━━━━━\u001b[0m \u001b[32m10.8/10.8 MB\u001b[0m \u001b[31m29.1 MB/s\u001b[0m eta \u001b[36m0:00:00\u001b[0m\n",
            "\u001b[?25hCollecting torch_cluster\n",
            "  Downloading https://data.pyg.org/whl/torch-2.1.0%2Bcu121/torch_cluster-1.6.3%2Bpt21cu121-cp310-cp310-linux_x86_64.whl (3.3 MB)\n",
            "\u001b[2K     \u001b[90m━━━━━━━━━━━━━━━━━━━━━━━━━━━━━━━━━━━━━━━━\u001b[0m \u001b[32m3.3/3.3 MB\u001b[0m \u001b[31m47.0 MB/s\u001b[0m eta \u001b[36m0:00:00\u001b[0m\n",
            "\u001b[?25hCollecting torch_spline_conv\n",
            "  Downloading https://data.pyg.org/whl/torch-2.1.0%2Bcu121/torch_spline_conv-1.2.2%2Bpt21cu121-cp310-cp310-linux_x86_64.whl (932 kB)\n",
            "\u001b[2K     \u001b[90m━━━━━━━━━━━━━━━━━━━━━━━━━━━━━━━━━━━━━━━━\u001b[0m \u001b[32m932.1/932.1 kB\u001b[0m \u001b[31m53.3 MB/s\u001b[0m eta \u001b[36m0:00:00\u001b[0m\n",
            "\u001b[?25hRequirement already satisfied: scipy in /usr/local/lib/python3.10/dist-packages (from torch_cluster) (1.11.4)\n",
            "Requirement already satisfied: numpy<1.28.0,>=1.21.6 in /usr/local/lib/python3.10/dist-packages (from scipy->torch_cluster) (1.26.2)\n",
            "Installing collected packages: torch_spline_conv, torch_scatter, pyg_lib, torch_cluster\n",
            "Successfully installed pyg_lib-0.4.0+pt21cu121 torch_cluster-1.6.3+pt21cu121 torch_scatter-2.1.2+pt21cu121 torch_spline_conv-1.2.2+pt21cu121\n"
          ]
        }
      ]
    },
    {
      "cell_type": "code",
      "source": [
        "!pre-commit install"
      ],
      "metadata": {
        "colab": {
          "base_uri": "https://localhost:8080/"
        },
        "id": "Q0jD8nAdJG3o",
        "outputId": "cf77c99d-2d45-435c-fbc4-834c4c02000d"
      },
      "execution_count": 7,
      "outputs": [
        {
          "output_type": "stream",
          "name": "stdout",
          "text": [
            "pre-commit installed at .git/hooks/pre-commit\n"
          ]
        }
      ]
    },
    {
      "cell_type": "code",
      "source": [
        "!python main.py"
      ],
      "metadata": {
        "colab": {
          "base_uri": "https://localhost:8080/"
        },
        "id": "bPotZH9ZRze4",
        "outputId": "6e0f91c0-bb01-44e3-c3c3-0cde325a0ff6"
      },
      "execution_count": 8,
      "outputs": [
        {
          "output_type": "stream",
          "name": "stdout",
          "text": [
            "Traceback (most recent call last):\n",
            "  File \"/content/FoMo-Bench/main.py\", line 11, in <module>\n",
            "    import utilities.utils as utils\n",
            "  File \"/content/FoMo-Bench/utilities/utils.py\", line 18, in <module>\n",
            "    from torchmetrics import Accuracy, F1Score, JaccardIndex, Precision, Recall, AveragePrecision\n",
            "  File \"/usr/local/lib/python3.10/dist-packages/torchmetrics/__init__.py\", line 22, in <module>\n",
            "    from torchmetrics import functional  # noqa: E402\n",
            "  File \"/usr/local/lib/python3.10/dist-packages/torchmetrics/functional/__init__.py\", line 14, in <module>\n",
            "    from torchmetrics.functional.audio._deprecated import _permutation_invariant_training as permutation_invariant_training\n",
            "  File \"/usr/local/lib/python3.10/dist-packages/torchmetrics/functional/audio/__init__.py\", line 14, in <module>\n",
            "    from torchmetrics.functional.audio.pit import permutation_invariant_training, pit_permutate\n",
            "  File \"/usr/local/lib/python3.10/dist-packages/torchmetrics/functional/audio/pit.py\", line 22, in <module>\n",
            "    from torchmetrics.utilities import rank_zero_warn\n",
            "  File \"/usr/local/lib/python3.10/dist-packages/torchmetrics/utilities/__init__.py\", line 14, in <module>\n",
            "    from torchmetrics.utilities.checks import check_forward_full_state_property\n",
            "  File \"/usr/local/lib/python3.10/dist-packages/torchmetrics/utilities/checks.py\", line 25, in <module>\n",
            "    from torchmetrics.metric import Metric\n",
            "  File \"/usr/local/lib/python3.10/dist-packages/torchmetrics/metric.py\", line 30, in <module>\n",
            "    from torchmetrics.utilities.data import (\n",
            "  File \"/usr/local/lib/python3.10/dist-packages/torchmetrics/utilities/data.py\", line 22, in <module>\n",
            "    from torchmetrics.utilities.imports import _TORCH_GREATER_EQUAL_1_12, _XLA_AVAILABLE\n",
            "  File \"/usr/local/lib/python3.10/dist-packages/torchmetrics/utilities/imports.py\", line 54, in <module>\n",
            "    _TORCHAUDIO_GREATER_EQUAL_0_10: Optional[bool] = compare_version(\"torchaudio\", operator.ge, \"0.10.0\")\n",
            "  File \"/usr/local/lib/python3.10/dist-packages/lightning_utilities/core/imports.py\", line 77, in compare_version\n",
            "    pkg = importlib.import_module(package)\n",
            "  File \"/usr/lib/python3.10/importlib/__init__.py\", line 126, in import_module\n",
            "    return _bootstrap._gcd_import(name[level:], package, level)\n",
            "  File \"/usr/local/lib/python3.10/dist-packages/torchaudio/__init__.py\", line 2, in <module>\n",
            "    from . import _extension  # noqa  # usort: skip\n",
            "  File \"/usr/local/lib/python3.10/dist-packages/torchaudio/_extension/__init__.py\", line 38, in <module>\n",
            "    _load_lib(\"libtorchaudio\")\n",
            "  File \"/usr/local/lib/python3.10/dist-packages/torchaudio/_extension/utils.py\", line 60, in _load_lib\n",
            "    torch.ops.load_library(path)\n",
            "  File \"/usr/local/lib/python3.10/dist-packages/torch/_ops.py\", line 852, in load_library\n",
            "    ctypes.CDLL(path)\n",
            "  File \"/usr/lib/python3.10/ctypes/__init__.py\", line 374, in __init__\n",
            "    self._handle = _dlopen(self._name, mode)\n",
            "OSError: /usr/local/lib/python3.10/dist-packages/torchaudio/lib/libtorchaudio.so: undefined symbol: _ZN3c104impl3cow11cow_deleterEPv\n"
          ]
        }
      ]
    }
  ]
}